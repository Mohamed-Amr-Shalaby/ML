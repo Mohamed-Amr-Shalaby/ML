{
 "cells": [
  {
   "cell_type": "code",
   "execution_count": 13,
   "metadata": {},
   "outputs": [],
   "source": [
    "from typing import List, Dict, Any\n",
    "import pandas as pd\n",
    "import numpy as np\n",
    "import os"
   ]
  },
  {
   "cell_type": "code",
   "execution_count": 7,
   "metadata": {},
   "outputs": [],
   "source": [
    "train_df = pd.read_csv(os.path.join('data', \"train.csv\"))\n",
    "train_df"
   ]
  },
  {
   "cell_type": "code",
   "execution_count": 8,
   "metadata": {},
   "outputs": [],
   "source": [
    "from sklearn.preprocessing import LabelEncoder, StandardScaler\n",
    "\n",
    "train_df = train_df.drop(columns=['PassengerId', 'Name', 'Ticket', 'Fare', 'Cabin']).dropna()\n",
    "train_df[\"Sex\"] = LabelEncoder().fit_transform(train_df[\"Sex\"])\n",
    "train_df[\"Embarked\"] = LabelEncoder().fit_transform(train_df[\"Embarked\"])\n",
    "train_df['Age'] = StandardScaler().fit_transform(train_df['Age'].values.reshape(-1, 1))\n",
    "train_df['bias'] = np.ones(train_df.shape[0])"
   ]
  },
  {
   "cell_type": "code",
   "execution_count": 9,
   "metadata": {},
   "outputs": [],
   "source": [
    "train_df"
   ]
  },
  {
   "cell_type": "code",
   "execution_count": 10,
   "metadata": {},
   "outputs": [],
   "source": [
    "from sklearn.model_selection import train_test_split\n",
    "\n",
    "X = train_df.drop(columns=['Survived'])\n",
    "y = train_df['Survived']\n",
    "\n",
    "X_train, X_test, y_train, y_test = train_test_split(X.values, y.values, test_size=0.15, random_state=69)"
   ]
  },
  {
   "cell_type": "code",
   "execution_count": 15,
   "metadata": {},
   "outputs": [],
   "source": [
    "y_train = y_train.reshape(-1, 1) \n",
    "y_test = y_test.reshape(-1, 1)\n",
    "X_train.shape, X_test.shape, y_train.shape, y_test.shape"
   ]
  },
  {
   "cell_type": "code",
   "execution_count": 14,
   "metadata": {},
   "outputs": [],
   "source": [
    "\n",
    "\n",
    "def MSELoss(y_true: np.ndarray, y_pred: np.ndarray) -> np.float32:\n",
    "    y_true = y_true.flatten()\n",
    "    y_pred = y_pred.flatten()\n",
    "    return (1/len(y_true)) * np.sum((y_pred - y_true) ** 2)\n",
    "\n",
    "def MAELoss(y_true: np.ndarray, y_pred: np.ndarray) -> np.float32:\n",
    "    y_true = y_true.flatten()\n",
    "    y_pred = y_pred.flatten()\n",
    "    return (1/len(y_true)) * np.sum(np.abs((y_pred - y_true)))\n",
    "\n",
    "def accuracy_with_thresholding(y_true: np.ndarray, y_pred: np.ndarray, threshold = 0.5):\n",
    "    y_true = y_true.flatten()\n",
    "    y_pred = y_pred.flatten()\n",
    "    return np.sum(\n",
    "        y_true == (y_pred > threshold).astype(np.int32)\n",
    "    ) / len(y_true)\n",
    "    \n",
    "def sigmoid(z):\n",
    "    return 1/(1 + np.exp(-z))\n"
   ]
  },
  {
   "cell_type": "code",
   "execution_count": 15,
   "metadata": {},
   "outputs": [],
   "source": [
    "import torch\n",
    "import numpy as np"
   ]
  },
  {
   "cell_type": "code",
   "execution_count": 18,
   "metadata": {},
   "outputs": [],
   "source": [
    "X = np.array([1])\n",
    "Y = np.array([0])\n",
    "Z = X + Y\n",
    "X ,Y , Z "
   ]
  },
  {
   "cell_type": "code",
   "execution_count": 19,
   "metadata": {},
   "outputs": [],
   "source": [
    "x = torch.tensor([1.0], requires_grad=True)\n",
    "y = torch.tensor([0.0], requires_grad=True)\n",
    "z = (x + y) **2\n",
    "x, y, z"
   ]
  },
  {
   "cell_type": "code",
   "execution_count": 20,
   "metadata": {},
   "outputs": [],
   "source": [
    "z.backward()"
   ]
  },
  {
   "cell_type": "code",
   "execution_count": 21,
   "metadata": {},
   "outputs": [],
   "source": [
    "x.grad"
   ]
  },
  {
   "cell_type": "code",
   "execution_count": 22,
   "metadata": {},
   "outputs": [],
   "source": [
    "y.grad"
   ]
  },
  {
   "cell_type": "code",
   "execution_count": 23,
   "metadata": {},
   "outputs": [],
   "source": [
    "# Dataset\n",
    "\n",
    "# Dataloader\n",
    "\n",
    "# Model\n",
    "\n",
    "# Traing-Valid Loop\n",
    "\n",
    "# Test\n"
   ]
  },
  {
   "cell_type": "code",
   "execution_count": 16,
   "metadata": {},
   "outputs": [],
   "source": [
    "import torch\n",
    "from torch.utils.data import Dataset, DataLoader\n",
    "import pandas as pd\n",
    "\n",
    "class TitanicDataset(Dataset):\n",
    "    def __init__(self, df: pd.DataFrame, target: str, transforms=None):\n",
    "        super().__init__()\n",
    "        self.df = df\n",
    "        self.features = df.drop(columns=[target]).values\n",
    "        self.target = df[target].values.reshape(-1, 1)\n",
    "        self.transforms = transforms\n",
    "        \n",
    "    def __len__(self):\n",
    "        return len(self.target)\n",
    "        \n",
    "    def __getitem__(self, idx):\n",
    "        X = torch.from_numpy(self.features[idx,:]).float()\n",
    "        y = torch.from_numpy(self.target[idx,:]).float()\n",
    "        \n",
    "        if self.transforms:\n",
    "            X = self.transforms(X)\n",
    "        \n",
    "        return (X, y)\n"
   ]
  },
  {
   "cell_type": "code",
   "execution_count": 41,
   "metadata": {},
   "outputs": [],
   "source": [
    "training_df = pd.DataFrame(X_train, columns=train_df.columns - [\"Survived\"])\n",
    "training_df['Survived'] = y_train\n",
    "training_df\n",
    "\n",
    "train_dataset = TitanicDataset(training_df, target='Survived')"
   ]
  },
  {
   "cell_type": "code",
   "execution_count": 42,
   "metadata": {},
   "outputs": [],
   "source": [
    "val_df = pd.DataFrame(X_test, columns=train_df.columns - [\"Survived\"])\n",
    "val_df['Survived'] = y_test\n",
    "val_df\n",
    "\n",
    "val_dataset = TitanicDataset(val_df, target='Survived')"
   ]
  },
  {
   "cell_type": "code",
   "execution_count": 43,
   "metadata": {},
   "outputs": [],
   "source": [
    "len(train_dataset), len(val_dataset)"
   ]
  },
  {
   "cell_type": "code",
   "execution_count": 44,
   "metadata": {},
   "outputs": [],
   "source": [
    "train_data_loader = DataLoader(train_dataset, batch_size=64, shuffle=True)\n",
    "val_data_loader = DataLoader(val_dataset, batch_size=64, shuffle=False)"
   ]
  },
  {
   "cell_type": "code",
   "execution_count": 89,
   "metadata": {},
   "outputs": [],
   "source": [
    "class TitanicModel(torch.nn.Module):\n",
    "    def __init__(self):\n",
    "        super().__init__()\n",
    "        self.linear1 = torch.nn.Linear(7, 3)\n",
    "        self.linear2 = torch.nn.Linear(3, 1)\n",
    "        \n",
    "    def forward(self, x):\n",
    "        x = torch.relu(self.linear1(x))\n",
    "        return torch.sigmoid(self.linear2(x))"
   ]
  },
  {
   "cell_type": "code",
   "execution_count": 124,
   "metadata": {},
   "outputs": [],
   "source": [
    "# Training Loop\n",
    "# Loss, Optimizer, epochs, learning rate, seed\n",
    "\n",
    "torch.manual_seed(420)\n",
    "model = TitanicModel()\n",
    "learning_rate = 0.001\n",
    "epochs = 1000\n",
    "loss = torch.nn.BCELoss()\n",
    "optimizer = torch.optim.Adam(model.parameters(), lr=learning_rate)"
   ]
  },
  {
   "cell_type": "code",
   "execution_count": 125,
   "metadata": {},
   "outputs": [],
   "source": [
    "# model.to('cuda')\n",
    "max_accuracy = 0\n",
    "for i in range(epochs):\n",
    "    for idx, (X_batch, y_batch) in enumerate(train_data_loader):\n",
    "        # X_batch, y_batch = X_batch.to('cuda'), y_batch.to('cuda')\n",
    "        model.train()\n",
    "        \n",
    "        optimizer.zero_grad()\n",
    "        y_pred = model(X_batch)\n",
    "        # y_pred = y_pred.to('cpu')\n",
    "        # y_batch = y_batch.to('cpu')\n",
    "        loss_value = loss(y_pred, y_batch)\n",
    "        loss_value.backward()\n",
    "        optimizer.step()\n",
    "        \n",
    "    # Validate\n",
    "    if i % 100 == 0:\n",
    "        model.eval()\n",
    "        with torch.no_grad():\n",
    "            val_loss = 0\n",
    "            val_accuracy = 0\n",
    "            for X_val, y_val in val_data_loader:\n",
    "                y_pred = model(X_val)\n",
    "                val_loss += loss(y_pred, y_val)\n",
    "                val_accuracy += accuracy_with_thresholding(y_val.numpy(), y_pred.numpy())\n",
    "            \n",
    "            val_accuracy /= len(val_data_loader)\n",
    "            val_loss /= len(val_data_loader)\n",
    "            \n",
    "            if val_accuracy > max_accuracy:\n",
    "                max_accuracy = val_accuracy\n",
    "            \n",
    "            print(f\"Epoch {i} - Training Loss: {loss_value.item()}, Validation Loss: {val_loss.item()}, Validation Accuracy: {val_accuracy}\")"
   ]
  },
  {
   "cell_type": "code",
   "execution_count": 126,
   "metadata": {},
   "outputs": [],
   "source": [
    "max_accuracy"
   ]
  },
  {
   "cell_type": "markdown",
   "metadata": {},
   "source": [
    "# Mnist"
   ]
  },
  {
   "cell_type": "code",
   "execution_count": 9,
   "metadata": {},
   "outputs": [],
   "source": [
    "print('Penis')\n"
   ]
  },
  {
   "cell_type": "code",
   "execution_count": 29,
   "metadata": {},
   "outputs": [],
   "source": [
    "from torchvision.datasets import MNIST\n",
    "from torchvision.transforms import ToTensor"
   ]
  },
  {
   "cell_type": "code",
   "execution_count": 31,
   "metadata": {},
   "outputs": [],
   "source": [
    "transform = ToTensor()\n",
    "mnist_ds = MNIST(root = 'data' ,download=True, transform=transform)\n",
    "train_ds, val_ds = torch.utils.data.random_split(mnist_ds, [0.85, 0.15])\n",
    "\n",
    "image, label = train_ds[0]\n"
   ]
  },
  {
   "cell_type": "code",
   "execution_count": 33,
   "metadata": {},
   "outputs": [],
   "source": [
    "image"
   ]
  },
  {
   "cell_type": "code",
   "execution_count": 34,
   "metadata": {},
   "outputs": [],
   "source": [
    "train_data_loader = DataLoader(train_ds, batch_size=256, shuffle=True)\n",
    "val_data_loader = DataLoader(val_ds, batch_size=256, shuffle=False)"
   ]
  },
  {
   "cell_type": "markdown",
   "metadata": {},
   "source": [
    "# Mnist"
   ]
  },
  {
   "cell_type": "code",
   "execution_count": 57,
   "metadata": {},
   "outputs": [],
   "source": [
    "#Model\n",
    "import torch.optim.sgd\n",
    "\n",
    "\n",
    "class MnistModel(torch.nn.Module):\n",
    "    def __init__(self):\n",
    "        super().__init__()\n",
    "        self.linear1 = torch.nn.Linear(28*28, 512)\n",
    "        self.linear2 = torch.nn.Linear(512, 128)\n",
    "        self.linear3 = torch.nn.Linear(128, 32)\n",
    "        self.linear4 = torch.nn.Linear(32, 10)\n",
    "    \n",
    "    def forward(self, a):\n",
    "        a = torch.relu(self.linear1(a))\n",
    "        a = torch.relu(self.linear2(a))\n",
    "        a = torch.relu(self.linear3(a))\n",
    "        a = torch.sigmoid(self.linear4(a))       \n",
    "        return torch.softmax(a, 1)\n",
    "\n",
    "# Training Loop\n",
    "# Loss, Optimizer, epochs, learning rate, seed\n",
    "\n",
    "torch.manual_seed(420)\n",
    "model = MnistModel()\n",
    "learning_rate = 0.01\n",
    "epochs = 100\n",
    "loss = torch.nn.BCELoss()\n",
    "optimizer = torch.optim.Adam(model.parameters(), lr=learning_rate)\n"
   ]
  },
  {
   "cell_type": "code",
   "execution_count": 60,
   "metadata": {},
   "outputs": [],
   "source": [
    "from torch.nn.functional import one_hot\n",
    "\n",
    "model.train()\n",
    "optimizer.zero_grad()\n",
    "x_batch, y_batch = mnist_ds[0]\n",
    "y_pred = model(x_batch.reshape(1, 784))\n",
    "loss_value = loss(y_pred, one_hot(torch.tensor([y_batch]), 10).float())\n",
    "loss_value.backward()\n",
    "optimizer.step()"
   ]
  },
  {
   "cell_type": "code",
   "execution_count": 63,
   "metadata": {},
   "outputs": [
    {
     "data": {
      "text/plain": [
       "tensor([[0.0853, 0.0915, 0.0823, 0.0905, 0.0999, 0.1318, 0.1183, 0.1004, 0.1005,\n",
       "         0.0994]], grad_fn=<SoftmaxBackward0>)"
      ]
     },
     "execution_count": 63,
     "metadata": {},
     "output_type": "execute_result"
    }
   ],
   "source": [
    "y_pred"
   ]
  },
  {
   "cell_type": "code",
   "execution_count": 64,
   "metadata": {},
   "outputs": [
    {
     "data": {
      "text/plain": [
       "torch.Size([1, 10])"
      ]
     },
     "execution_count": 64,
     "metadata": {},
     "output_type": "execute_result"
    }
   ],
   "source": [
    "y_pred.shape"
   ]
  },
  {
   "cell_type": "code",
   "execution_count": null,
   "metadata": {},
   "outputs": [],
   "source": []
  }
 ],
 "metadata": {
  "kernelspec": {
   "display_name": ".venv",
   "language": "python",
   "name": "python3"
  },
  "language_info": {
   "codemirror_mode": {
    "name": "ipython",
    "version": 3
   },
   "file_extension": ".py",
   "mimetype": "text/x-python",
   "name": "python",
   "nbconvert_exporter": "python",
   "pygments_lexer": "ipython3",
   "version": "3.10.11"
  }
 },
 "nbformat": 4,
 "nbformat_minor": 2
}
